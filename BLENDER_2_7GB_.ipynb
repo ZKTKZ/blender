{
  "nbformat": 4,
  "nbformat_minor": 0,
  "metadata": {
    "colab": {
      "name": "BLENDER 2.7GB .ipynb",
      "provenance": [],
      "collapsed_sections": [],
      "machine_shape": "hm",
      "include_colab_link": true
    },
    "kernelspec": {
      "name": "python3",
      "display_name": "Python 3"
    },
    "accelerator": "GPU"
  },
  "cells": [
    {
      "cell_type": "markdown",
      "metadata": {
        "id": "view-in-github",
        "colab_type": "text"
      },
      "source": [
        "<a href=\"https://colab.research.google.com/github/ZKTKZ/blender/blob/master/BLENDER_2_7GB_.ipynb\" target=\"_parent\"><img src=\"https://colab.research.google.com/assets/colab-badge.svg\" alt=\"Open In Colab\"/></a>"
      ]
    },
    {
      "cell_type": "code",
      "metadata": {
        "id": "vW7mTwMToQ2Y",
        "colab_type": "code",
        "colab": {}
      },
      "source": [
        "!git clone https://github.com/facebookresearch/ParlAI.git\n",
        "%cd ParlAI\n",
        "!python setup.py develop\n",
        "!pip install 'git+https://github.com/rsennrich/subword-nmt.git#egg=subword-nmt'\n",
        "!pip install fvcore==0.1.1.post20200716\n",
        "!pip install Sphinx==3.0 --force-reinstall"
      ],
      "execution_count": null,
      "outputs": []
    },
    {
      "cell_type": "code",
      "metadata": {
        "id": "HnA51E2lotWF",
        "colab_type": "code",
        "colab": {}
      },
      "source": [
        "#Interactive\n",
        "!python parlai/scripts/safe_interactive.py -t blended_skill_talk -mf zoo:blender/blender_3B/model --include_personas=False \n",
        "!#python parlai/scripts/interactive.py -mf zoo:blender/blender_3B/model "
      ],
      "execution_count": null,
      "outputs": []
    },
    {
      "cell_type": "code",
      "metadata": {
        "id": "tj5cSR4mBr8k",
        "colab_type": "code",
        "colab": {}
      },
      "source": [
        "'''\n",
        "ERROR: kaggle 1.5.6 has requirement urllib3<1.25,>=1.21.1, but you'll have urllib3 1.25.10 which is incompatible.\n",
        "ERROR: google-colab 1.0.0 has requirement requests~=2.23.0, but you'll have requests 2.24.0 which is incompatible.\n",
        "ERROR: datascience 0.10.6 has requirement folium==0.2.1, but you'll have folium 0.8.3 which is incompatible.\n",
        "ERROR: botocore 1.17.48 has requirement docutils<0.16,>=0.10, but you'll have docutils 0.16 which is incompatible.\n",
        "ERROR: albumentations 0.1.12 has requirement imgaug<0.2.7,>=0.2.5, but you'll have imgaug 0.2.9 which is incompatible.\n",
        "ERROR: parlai 0.9.0 has requirement attrs~=19.3, but you'll have attrs 20.1.0 which is incompatible.\n",
        "ERROR: parlai 0.9.0 has requirement docutils<0.16, but you'll have docutils 0.16 which is incompatible.\n",
        "'''\n",
        "\n",
        "!pip install urllib3==1.24 requests==2.23 folium==0.2.1 docutils==0.15 imgaug==0.2.6 attrs==19.3 markdown-it-py~=0.5.2 gitdb==4.0.1 pyflakes==2.2.0"
      ],
      "execution_count": null,
      "outputs": []
    },
    {
      "cell_type": "code",
      "metadata": {
        "id": "t221L2s55of0",
        "colab_type": "code",
        "colab": {
          "base_uri": "https://localhost:8080/",
          "height": 1000
        },
        "outputId": "adc596ae-0aab-4bd2-a1f3-42bb99162702"
      },
      "source": [
        "!parlai display_data -t empathetic_dialogues "
      ],
      "execution_count": null,
      "outputs": [
        {
          "output_type": "stream",
          "text": [
            "00:01:26 INFO | Opt:\n",
            "00:01:26 INFO |     batchsize: 1\n",
            "00:01:26 INFO |     datapath: /content/ParlAI/data\n",
            "00:01:26 INFO |     datatype: train:ordered\n",
            "00:01:26 INFO |     dict_class: None\n",
            "00:01:26 INFO |     display_ignore_fields: agent_reply\n",
            "00:01:26 INFO |     display_verbose: False\n",
            "00:01:26 INFO |     download_path: None\n",
            "00:01:26 INFO |     dynamic_batching: None\n",
            "00:01:26 INFO |     hide_labels: False\n",
            "00:01:26 INFO |     image_cropsize: 224\n",
            "00:01:26 INFO |     image_mode: raw\n",
            "00:01:26 INFO |     image_size: 256\n",
            "00:01:26 INFO |     init_model: None\n",
            "00:01:26 INFO |     init_opt: None\n",
            "00:01:26 INFO |     loglevel: info\n",
            "00:01:26 INFO |     max_display_len: 1000\n",
            "00:01:26 INFO |     model: None\n",
            "00:01:26 INFO |     model_file: None\n",
            "00:01:26 INFO |     multitask_weights: [1]\n",
            "00:01:26 INFO |     num_examples: 10\n",
            "00:01:26 INFO |     override: \"{'task': 'empathetic_dialogues'}\"\n",
            "00:01:26 INFO |     parlai_home: /content/ParlAI\n",
            "00:01:26 INFO |     remove_political_convos: False\n",
            "00:01:26 INFO |     starttime: Aug30_00-01\n",
            "00:01:26 INFO |     task: empathetic_dialogues\n",
            "00:01:26 INFO |     train_experiencer_only: False\n",
            "00:01:26 INFO | Current ParlAI commit: e08125cb62646bb43f1c0651fd3ff608412f5e21\n",
            "00:01:26 INFO | creating task(s): empathetic_dialogues\n",
            "[EmpatheticDialoguesTeacher] Only use experiencer side? False, datatype: train:ordered\n",
            "[building data: /content/ParlAI/data/empatheticdialogues]\n",
            "00:01:26 INFO | Downloading http://parl.ai/downloads/empatheticdialogues/empatheticdialogues.tar.gz to /content/ParlAI/data/empatheticdialogues/empatheticdialogues.tar.gz\n",
            "Downloading empatheticdialogues.tar.gz: 100% 28.0M/28.0M [00:04<00:00, 6.48MB/s]\n",
            "\u001b[1;31m- - - NEW EPISODE: empathetic_dialogues - - -\u001b[0;0m\n",
            "\u001b[0mI remember going to see the fireworks with my best friend. It was the first time we ever spent time alone together. Although there was a lot of people, we felt like the only people in the world.\u001b[0;0m\n",
            "   \u001b[1;94mWas this a friend you were in love with, or just a best friend?\u001b[0;0m\n",
            "\u001b[0mThis was a best friend. I miss her.\u001b[0;0m\n",
            "   \u001b[1;94mWhere has she gone?\u001b[0;0m\n",
            "\u001b[0mWe no longer talk.\u001b[0;0m\n",
            "   \u001b[1;94mOh was this something that happened because of an argument?\u001b[0;0m\n",
            "\u001b[1;31m- - - NEW EPISODE: empathetic_dialogues - - -\u001b[0;0m\n",
            "\u001b[0mWas this a friend you were in love with, or just a best friend?\u001b[0;0m\n",
            "   \u001b[1;94mThis was a best friend. I miss her.\u001b[0;0m\n",
            "\u001b[0mWhere has she gone?\u001b[0;0m\n",
            "   \u001b[1;94mWe no longer talk.\u001b[0;0m\n",
            "\u001b[1;31m- - - NEW EPISODE: empathetic_dialogues - - -\u001b[0;0m\n",
            "\u001b[0m it feels like hitting to blank wall when i see the darkness\u001b[0;0m\n",
            "   \u001b[1;94mOh ya? I don't really see how\u001b[0;0m\n",
            "\u001b[0mdont you feel so.. its a wonder \u001b[0;0m\n",
            "   \u001b[1;94mI do actually hit blank walls a lot of times but i get by\u001b[0;0m\n",
            "\u001b[0m i virtually thought so.. and i used to get sweatings\u001b[0;0m\n",
            "   \u001b[1;94mWait what are sweatings\u001b[0;0m\n",
            "\u001b[1;31m- - - NEW EPISODE: empathetic_dialogues - - -\u001b[0;0m\n",
            "\u001b[0mOh ya? I don't really see how\u001b[0;0m\n",
            "   \u001b[1;94mdont you feel so.. its a wonder \u001b[0;0m\n",
            "\u001b[0mI do actually hit blank walls a lot of times but i get by\u001b[0;0m\n",
            "   \u001b[1;94m i virtually thought so.. and i used to get sweatings\u001b[0;0m\n",
            "00:01:32 INFO | loaded 39057 episodes with a total of 64636 examples\n"
          ],
          "name": "stdout"
        }
      ]
    },
    {
      "cell_type": "code",
      "metadata": {
        "id": "Dh_EwILf3wBo",
        "colab_type": "code",
        "colab": {}
      },
      "source": [
        "#Finetune\n",
        "!parlai train_model -t  blended_skill_talk,wizard_of_wikipedia,convai2:normalized,empathetic_dialogues --multitask-weights 1,3,3,9 -bs 1 --dropout 0.1 --model-parallel False --skip-generation True --fp16 True --fp16-impl mem_efficient --optimizer adam --learningrate 7e-08 --warmup-updates -100 --update-freq 2 -mf zoo:blender/reddit_3B/model -veps 0.25 --attention-dropout 0.0 --model transformer/generator\n",
        "#!parlai train_model -t blended_skill_talk,wizard_of_wikipedia,convai2:normalized,empathetic_dialogues --multitask-weights 1,3,3,9 -veps 0.25 --attention-dropout 0.0 -bs 1 --model transformer/generator --embedding-size 2560 --ffn-size 10240 --variant prelayernorm --n-heads 32 --n-positions 128 --n-encoder-layers 2 --n-decoder-layers 24 --history-add-global-end-token end --delimiter '  ' --dict-tokenizer bytelevelbpe  --dropout 0.1 --fp16 True --init-model zoo:blender/reddit_3B/model --dict-file zoo:blender/reddit_3B/model.dict --label-truncate 128 --log_every_n_secs 10 -lr 7e-07 --lr-scheduler reduceonplateau --lr-scheduler-patience 3 --optimizer adam --relu-dropout 0.0 --activation gelu --model-parallel true --save-after-valid True --text-truncate 128 --truncate 128 --warmup_updates 100 --fp16-impl mem_efficient --update-freq 2 --gradient-clip 0.1 --skip-generation True -vp 10 -vmt ppl -vmm min --model-file /tmp/test_train_27B"
      ],
      "execution_count": null,
      "outputs": []
    },
    {
      "cell_type": "code",
      "metadata": {
        "id": "FqDNyPTSxpCs",
        "colab_type": "code",
        "colab": {}
      },
      "source": [
        "# colab free can't finetune 2.7GB :(\n",
        "# memory footprint support libraries/code\n",
        "!ln -sf /opt/bin/nvidia-smi /usr/bin/nvidia-smi\n",
        "!pip install gputil\n",
        "!pip install psutil\n",
        "!pip install humanize\n",
        "\n",
        "import psutil\n",
        "import humanize\n",
        "import os\n",
        "import GPUtil as GPU\n",
        "GPUs = GPU.getGPUs()\n",
        "\n",
        "# XXX: only one GPU on Colab and isn’t guaranteed\n",
        "gpu = GPUs[0]\n",
        "def printm():\n",
        "  process = psutil.Process(os.getpid())\n",
        "  print(\"Gen RAM Free: \" + humanize.naturalsize( psutil.virtual_memory().available ), \" | Proc size: \" + humanize.naturalsize( process.memory_info().rss))\n",
        "  print(\"GPU RAM Free: {0:.0f}MB | Used: {1:.0f}MB | Util {2:3.0f}% | Total {3:.0f}MB\".format(gpu.memoryFree, gpu.memoryUsed, gpu.memoryUtil*100, gpu.memoryTotal))\n",
        "\n",
        "printm()"
      ],
      "execution_count": null,
      "outputs": []
    },
    {
      "cell_type": "markdown",
      "metadata": {
        "id": "AgnT4ZM2pf3_",
        "colab_type": "text"
      },
      "source": [
        "Copied from Parl's docs on /recipes. Possibly outdated, hence left out.\n",
        "\n",
        "-veps 0.25 --attention-dropout 0.0 --model transformer/generator --embedding-size 2560 --ffn-size 10240 --variant prelayernorm --n-heads 32 --n-positions 128 --n-encoder-layers 2 --n-decoder-layers 24 --history-add-global-end-token end --delimiter '  ' --dict-tokenizer bytelevelbpe  --dropout 0.1 --init-model zoo:blender/reddit_3B/model --dict-file zoo:blender/reddit_3B/model.dict --label-truncate 128 --log_every_n_secs 10 --lr-scheduler reduceonplateau --lr-scheduler-patience 3 --relu-dropout 0.0 --activation gelu --save-after-valid True --text-truncate 128 --truncate 128 --gradient-clip 0.1 --skip-generation True -vp 10 -vmt ppl -vmm min --model-file /tmp/test_train_27B"
      ]
    }
  ]
}